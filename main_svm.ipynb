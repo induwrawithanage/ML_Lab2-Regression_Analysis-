{
 "cells": [
  {
   "cell_type": "code",
   "execution_count": 1,
   "id": "e1c35ace",
   "metadata": {},
   "outputs": [],
   "source": [
    "import pandas as pd\n",
    "import numpy as np\n",
    "import matplotlib.pyplot as plt\n",
    "import seaborn as sns\n",
    "\n",
    "from sklearn.model_selection import train_test_split\n",
    "from sklearn.ensemble import RandomForestRegressor\n",
    "from sklearn.metrics import mean_squared_error, r2_score\n",
    "from sklearn.preprocessing import LabelEncoder"
   ]
  },
  {
   "cell_type": "code",
   "execution_count": 2,
   "id": "86527a0b",
   "metadata": {},
   "outputs": [
    {
     "name": "stderr",
     "output_type": "stream",
     "text": [
      "C:\\Users\\User\\AppData\\Local\\Temp\\ipykernel_7200\\3212443228.py:14: FutureWarning: A value is trying to be set on a copy of a DataFrame or Series through chained assignment using an inplace method.\n",
      "The behavior will change in pandas 3.0. This inplace method will never work because the intermediate object on which we are setting values always behaves as a copy.\n",
      "\n",
      "For example, when doing 'df[col].method(value, inplace=True)', try using 'df.method({col: value}, inplace=True)' or df[col] = df[col].method(value) instead, to perform the operation inplace on the original object.\n",
      "\n",
      "\n",
      "  df[column].fillna(median_value, inplace=True)\n",
      "C:\\Users\\User\\AppData\\Local\\Temp\\ipykernel_7200\\3212443228.py:14: FutureWarning: A value is trying to be set on a copy of a DataFrame or Series through chained assignment using an inplace method.\n",
      "The behavior will change in pandas 3.0. This inplace method will never work because the intermediate object on which we are setting values always behaves as a copy.\n",
      "\n",
      "For example, when doing 'df[col].method(value, inplace=True)', try using 'df.method({col: value}, inplace=True)' or df[col] = df[col].method(value) instead, to perform the operation inplace on the original object.\n",
      "\n",
      "\n",
      "  df[column].fillna(median_value, inplace=True)\n",
      "C:\\Users\\User\\AppData\\Local\\Temp\\ipykernel_7200\\3212443228.py:14: FutureWarning: A value is trying to be set on a copy of a DataFrame or Series through chained assignment using an inplace method.\n",
      "The behavior will change in pandas 3.0. This inplace method will never work because the intermediate object on which we are setting values always behaves as a copy.\n",
      "\n",
      "For example, when doing 'df[col].method(value, inplace=True)', try using 'df.method({col: value}, inplace=True)' or df[col] = df[col].method(value) instead, to perform the operation inplace on the original object.\n",
      "\n",
      "\n",
      "  df[column].fillna(median_value, inplace=True)\n",
      "C:\\Users\\User\\AppData\\Local\\Temp\\ipykernel_7200\\3212443228.py:14: FutureWarning: A value is trying to be set on a copy of a DataFrame or Series through chained assignment using an inplace method.\n",
      "The behavior will change in pandas 3.0. This inplace method will never work because the intermediate object on which we are setting values always behaves as a copy.\n",
      "\n",
      "For example, when doing 'df[col].method(value, inplace=True)', try using 'df.method({col: value}, inplace=True)' or df[col] = df[col].method(value) instead, to perform the operation inplace on the original object.\n",
      "\n",
      "\n",
      "  df[column].fillna(median_value, inplace=True)\n",
      "C:\\Users\\User\\AppData\\Local\\Temp\\ipykernel_7200\\3212443228.py:14: FutureWarning: A value is trying to be set on a copy of a DataFrame or Series through chained assignment using an inplace method.\n",
      "The behavior will change in pandas 3.0. This inplace method will never work because the intermediate object on which we are setting values always behaves as a copy.\n",
      "\n",
      "For example, when doing 'df[col].method(value, inplace=True)', try using 'df.method({col: value}, inplace=True)' or df[col] = df[col].method(value) instead, to perform the operation inplace on the original object.\n",
      "\n",
      "\n",
      "  df[column].fillna(median_value, inplace=True)\n",
      "C:\\Users\\User\\AppData\\Local\\Temp\\ipykernel_7200\\3212443228.py:14: FutureWarning: A value is trying to be set on a copy of a DataFrame or Series through chained assignment using an inplace method.\n",
      "The behavior will change in pandas 3.0. This inplace method will never work because the intermediate object on which we are setting values always behaves as a copy.\n",
      "\n",
      "For example, when doing 'df[col].method(value, inplace=True)', try using 'df.method({col: value}, inplace=True)' or df[col] = df[col].method(value) instead, to perform the operation inplace on the original object.\n",
      "\n",
      "\n",
      "  df[column].fillna(median_value, inplace=True)\n"
     ]
    }
   ],
   "source": [
    "df = pd.read_csv('train.csv')\n",
    "columns_to_fill = [\n",
    "    'harmonic_scale_1', \n",
    "    'artist_count', \n",
    "    'key_variety', \n",
    "    'tonal_mode_1', \n",
    "    'tonal_mode_0', \n",
    "    'time_signature_0'\n",
    "]\n",
    "\n",
    "# Fill null values with the median for each specified column\n",
    "for column in columns_to_fill:\n",
    "    median_value = df[column].median()\n",
    "    df[column].fillna(median_value, inplace=True)"
   ]
  },
  {
   "cell_type": "code",
   "execution_count": 3,
   "id": "39e364a1",
   "metadata": {},
   "outputs": [],
   "source": [
    "\n",
    "df = df.drop(['id', 'composition_label_0','composition_label_1','track_identifier','creator_collective','composition_label_2','publication_timestamp','weekday_of_release'], axis=1)\n",
    "df = df.drop(['vocal_presence_0', 'album_name_length','harmonic_scale_0','tonal_mode_0','groove_efficiency_2','groove_efficiency_1','time_signature_0','groove_efficiency_2','beat_frequency_0','beat_frequency_2'], axis=1)"
   ]
  },
  {
   "cell_type": "code",
   "execution_count": 4,
   "id": "4ea4eabb",
   "metadata": {},
   "outputs": [
    {
     "name": "stdout",
     "output_type": "stream",
     "text": [
      "Number of missing values after filling:\n",
      " emotional_charge_2            0\n",
      "beat_frequency_1              0\n",
      "organic_texture_2             0\n",
      "harmonic_scale_1              0\n",
      "intensity_index_0             0\n",
      "duration_ms_0                 0\n",
      "artist_count                  0\n",
      "album_component_count         0\n",
      "emotional_charge_1            0\n",
      "emotional_charge_0            0\n",
      "tonal_mode_2                  0\n",
      "key_variety                   0\n",
      "performance_authenticity_2    0\n",
      "performance_authenticity_0    0\n",
      "season_of_release             0\n",
      "time_signature_1              0\n",
      "duration_ms_2                 0\n",
      "lunar_phase                   0\n",
      "instrumental_density_2        0\n",
      "organic_texture_0             0\n",
      "vocal_presence_2              0\n",
      "tonal_mode_1                  0\n",
      "vocal_presence_1              0\n",
      "intensity_index_1             0\n",
      "organic_immersion_0           0\n",
      "instrumental_density_1        0\n",
      "organic_immersion_2           0\n",
      "duration_consistency          0\n",
      "organic_texture_1             0\n",
      "rhythmic_cohesion_0           0\n",
      "emotional_resonance_1         0\n",
      "rhythmic_cohesion_1           0\n",
      "performance_authenticity_1    0\n",
      "tempo_volatility              0\n",
      "organic_immersion_1           0\n",
      "groove_efficiency_0           0\n",
      "emotional_resonance_2         0\n",
      "duration_ms_1                 0\n",
      "time_signature_2              0\n",
      "rhythmic_cohesion_2           0\n",
      "emotional_resonance_0         0\n",
      "harmonic_scale_2              0\n",
      "intensity_index_2             0\n",
      "instrumental_density_0        0\n",
      "target                        0\n",
      "dtype: int64\n"
     ]
    }
   ],
   "source": [
    "# Fill numeric columns with mean\n",
    "numeric_cols = df.select_dtypes(include=['float64', 'int64']).columns\n",
    "df[numeric_cols] = df[numeric_cols].fillna(df[numeric_cols].mean())\n",
    "\n",
    "# Fill categorical columns with mode\n",
    "categorical_cols = df.select_dtypes(include=['object', 'category']).columns\n",
    "df[categorical_cols] = df[categorical_cols].fillna(df[categorical_cols].mode().iloc[0])\n",
    "\n",
    "# Verify missing values\n",
    "print(\"Number of missing values after filling:\\n\", df.isna().sum())"
   ]
  },
  {
   "cell_type": "code",
   "execution_count": 5,
   "id": "44666113",
   "metadata": {},
   "outputs": [],
   "source": [
    "# Encode categorical columns\n",
    "label_encoders = {}\n",
    "for col in categorical_cols:\n",
    "\tle = LabelEncoder()\n",
    "\tdf[col] = le.fit_transform(df[col])\n",
    "\tlabel_encoders[col] = le\n",
    "\n",
    "X = df.drop('target', axis=1)\n",
    "y = df['target']\n"
   ]
  },
  {
   "cell_type": "code",
   "execution_count": null,
   "id": "58cbaeec",
   "metadata": {},
   "outputs": [],
   "source": [
    "# from sklearn.svm import SVR\n",
    "# X_train, X_test, y_train, y_test = train_test_split(X, y, test_size=0.2, random_state=42)\n",
    "\n",
    "\n",
    "# # Step 1: Initialize and train the SVR model\n",
    "# svr_model = SVR(kernel='rbf')  # 'rbf' is a common kernel for non-linear data\n",
    "# svr_model.fit(X_train, y_train)\n",
    "\n",
    "# # Step 2: Make predictions\n",
    "# y_pred = svr_model.predict(X_test)\n",
    "\n",
    "# # Step 3: Evaluate the model\n",
    "# mse = mean_squared_error(y_test, y_pred)\n",
    "# rmse = np.sqrt(mse)\n",
    "# r2 = r2_score(y_test, y_pred)\n",
    "\n",
    "# # Print performance metrics\n",
    "# print(\"\\nSVR Model Performance:\")\n",
    "# print(f\"Mean Squared Error (MSE): {mse:.4f}\")\n",
    "# print(f\"Root Mean Squared Error (RMSE): {rmse:.4f}\")\n",
    "# print(f\"R² Score: {r2:.4f}\")"
   ]
  },
  {
   "cell_type": "code",
   "execution_count": null,
   "id": "bf00f869",
   "metadata": {},
   "outputs": [],
   "source": [
    "from sklearn.model_selection import GridSearchCV\n",
    "from sklearn.preprocessing import StandardScaler"
   ]
  },
  {
   "cell_type": "code",
   "execution_count": null,
   "id": "5e71771a",
   "metadata": {},
   "outputs": [
    {
     "name": "stdout",
     "output_type": "stream",
     "text": [
      "Best Parameters: {'C': 10, 'epsilon': 0.5, 'kernel': 'rbf'}\n",
      "Best Cross-Validation Score (Negative MSE): -269.8554148042603\n",
      "\n",
      "Best SVR Model Performance on Test Set:\n",
      "Mean Squared Error (MSE): 262.4842\n",
      "Root Mean Squared Error (RMSE): 16.2014\n",
      "R² Score: 0.4364\n"
     ]
    }
   ],
   "source": [
    "from sklearn.metrics import mean_squared_error, mean_absolute_error, r2_score\n",
    "# Step 1: Scale the features (SVR is sensitive to feature scales)\n",
    "scaler = StandardScaler()\n",
    "X_train_scaled = scaler.fit_transform(X_train)\n",
    "X_test_scaled = scaler.transform(X_test)\n",
    "\n",
    "# Step 2: Define the SVR model and hyperparameter grid\n",
    "svr = SVR()\n",
    "# param_grid = {\n",
    "#     'kernel': ['rbf', 'linear'],  # Kernel types\n",
    "#     'C': [1, 10],           # Regularization parameter\n",
    "#     'epsilon': [0.1, 0.5]  # Margin of tolerance\n",
    "# }\n",
    "param_grid = {\n",
    "    'kernel': ['rbf'],  # Different kernel types\n",
    "    'C': [10],  # Regularization parameter\n",
    "    'epsilon': [0.5]  # Degree of the polynomial kernel function (only for 'poly')\n",
    "}\n",
    "# Step 3: Set up GridSearchCV\n",
    "grid_search = GridSearchCV(\n",
    "    estimator=svr,\n",
    "    param_grid=param_grid,\n",
    "    cv=5,  # 5-fold cross-validation\n",
    "    scoring='neg_mean_squared_error',  # Optimize for MSE\n",
    "    n_jobs=-1  # Use all available CPU cores\n",
    ")\n",
    "\n",
    "# Step 4: Fit GridSearchCV to find the best model\n",
    "grid_search.fit(X_train_scaled, y_train)\n",
    "\n",
    "# Step 5: Get the best model and its parameters\n",
    "best_svr = grid_search.best_estimator_\n",
    "print(\"Best Parameters:\", grid_search.best_params_)\n",
    "print(\"Best Cross-Validation Score (Negative MSE):\", grid_search.best_score_)\n",
    "\n",
    "# Step 6: Make predictions with the best model\n",
    "y_pred = best_svr.predict(X_test_scaled)\n",
    "\n",
    "# Step 7: Evaluate the model\n",
    "mse = mean_squared_error(y_test, y_pred)\n",
    "rmse = np.sqrt(mse)\n",
    "r2 = r2_score(y_test, y_pred)\n",
    "mae = mean_absolute_error(y_test, y_pred)\n",
    "\n",
    "print(\"\\nBest SVR Model Performance on Test Set:\")\n",
    "print(f\"Mean Squared Error (MSE): {mse:.4f}\")\n",
    "print(f\"Root Mean Squared Error (RMSE): {rmse:.4f}\")\n",
    "print(f\"R² Score: {r2:.4f}\")\n",
    "print(f\"Mean Absolute Error (MAE): {mae:.4f}\")"
   ]
  },
  {
   "cell_type": "code",
   "execution_count": null,
   "id": "cc5d7081",
   "metadata": {},
   "outputs": [],
   "source": []
  },
  {
   "cell_type": "markdown",
   "id": "6601835b",
   "metadata": {},
   "source": [
    "### Test the test data set"
   ]
  },
  {
   "cell_type": "markdown",
   "id": "43c0c09d",
   "metadata": {},
   "source": [
    "Import set data set and pre process it"
   ]
  },
  {
   "cell_type": "code",
   "execution_count": null,
   "id": "1271b51c",
   "metadata": {},
   "outputs": [
    {
     "name": "stderr",
     "output_type": "stream",
     "text": [
      "C:\\Users\\User\\AppData\\Local\\Temp\\ipykernel_36568\\197375303.py:14: FutureWarning: A value is trying to be set on a copy of a DataFrame or Series through chained assignment using an inplace method.\n",
      "The behavior will change in pandas 3.0. This inplace method will never work because the intermediate object on which we are setting values always behaves as a copy.\n",
      "\n",
      "For example, when doing 'df[col].method(value, inplace=True)', try using 'df.method({col: value}, inplace=True)' or df[col] = df[col].method(value) instead, to perform the operation inplace on the original object.\n",
      "\n",
      "\n",
      "  df[column].fillna(median_value, inplace=True)\n",
      "C:\\Users\\User\\AppData\\Local\\Temp\\ipykernel_36568\\197375303.py:14: FutureWarning: A value is trying to be set on a copy of a DataFrame or Series through chained assignment using an inplace method.\n",
      "The behavior will change in pandas 3.0. This inplace method will never work because the intermediate object on which we are setting values always behaves as a copy.\n",
      "\n",
      "For example, when doing 'df[col].method(value, inplace=True)', try using 'df.method({col: value}, inplace=True)' or df[col] = df[col].method(value) instead, to perform the operation inplace on the original object.\n",
      "\n",
      "\n",
      "  df[column].fillna(median_value, inplace=True)\n",
      "C:\\Users\\User\\AppData\\Local\\Temp\\ipykernel_36568\\197375303.py:14: FutureWarning: A value is trying to be set on a copy of a DataFrame or Series through chained assignment using an inplace method.\n",
      "The behavior will change in pandas 3.0. This inplace method will never work because the intermediate object on which we are setting values always behaves as a copy.\n",
      "\n",
      "For example, when doing 'df[col].method(value, inplace=True)', try using 'df.method({col: value}, inplace=True)' or df[col] = df[col].method(value) instead, to perform the operation inplace on the original object.\n",
      "\n",
      "\n",
      "  df[column].fillna(median_value, inplace=True)\n",
      "C:\\Users\\User\\AppData\\Local\\Temp\\ipykernel_36568\\197375303.py:14: FutureWarning: A value is trying to be set on a copy of a DataFrame or Series through chained assignment using an inplace method.\n",
      "The behavior will change in pandas 3.0. This inplace method will never work because the intermediate object on which we are setting values always behaves as a copy.\n",
      "\n",
      "For example, when doing 'df[col].method(value, inplace=True)', try using 'df.method({col: value}, inplace=True)' or df[col] = df[col].method(value) instead, to perform the operation inplace on the original object.\n",
      "\n",
      "\n",
      "  df[column].fillna(median_value, inplace=True)\n",
      "C:\\Users\\User\\AppData\\Local\\Temp\\ipykernel_36568\\197375303.py:14: FutureWarning: A value is trying to be set on a copy of a DataFrame or Series through chained assignment using an inplace method.\n",
      "The behavior will change in pandas 3.0. This inplace method will never work because the intermediate object on which we are setting values always behaves as a copy.\n",
      "\n",
      "For example, when doing 'df[col].method(value, inplace=True)', try using 'df.method({col: value}, inplace=True)' or df[col] = df[col].method(value) instead, to perform the operation inplace on the original object.\n",
      "\n",
      "\n",
      "  df[column].fillna(median_value, inplace=True)\n",
      "C:\\Users\\User\\AppData\\Local\\Temp\\ipykernel_36568\\197375303.py:14: FutureWarning: A value is trying to be set on a copy of a DataFrame or Series through chained assignment using an inplace method.\n",
      "The behavior will change in pandas 3.0. This inplace method will never work because the intermediate object on which we are setting values always behaves as a copy.\n",
      "\n",
      "For example, when doing 'df[col].method(value, inplace=True)', try using 'df.method({col: value}, inplace=True)' or df[col] = df[col].method(value) instead, to perform the operation inplace on the original object.\n",
      "\n",
      "\n",
      "  df[column].fillna(median_value, inplace=True)\n"
     ]
    }
   ],
   "source": [
    "df = pd.read_csv('test.csv')\n",
    "columns_to_fill = [\n",
    "    'harmonic_scale_1', \n",
    "    'artist_count', \n",
    "    'key_variety', \n",
    "    'tonal_mode_1', \n",
    "    'tonal_mode_0', \n",
    "    'time_signature_0'\n",
    "]\n",
    "\n",
    "# Fill null values with the median for each specified column\n",
    "for column in columns_to_fill:\n",
    "    median_value = df[column].median()\n",
    "    df[column].fillna(median_value, inplace=True)"
   ]
  },
  {
   "cell_type": "markdown",
   "id": "db14f7f9",
   "metadata": {},
   "source": [
    "Remove Uncorellated columns and unnecessary columns"
   ]
  },
  {
   "cell_type": "code",
   "execution_count": null,
   "id": "22fe947f",
   "metadata": {},
   "outputs": [],
   "source": [
    "ids = df['id']\n",
    "df = df.drop(['id', 'composition_label_0','composition_label_1','track_identifier','creator_collective','composition_label_2','publication_timestamp','weekday_of_release'], axis=1)\n",
    "df = df.drop(['vocal_presence_0', 'album_name_length','harmonic_scale_0','tonal_mode_0','groove_efficiency_2','groove_efficiency_1','time_signature_0','groove_efficiency_2','beat_frequency_0','beat_frequency_2'], axis=1)"
   ]
  },
  {
   "cell_type": "code",
   "execution_count": null,
   "id": "d57e270c",
   "metadata": {},
   "outputs": [
    {
     "name": "stdout",
     "output_type": "stream",
     "text": [
      "Number of missing values after filling:\n",
      " emotional_charge_2            0\n",
      "beat_frequency_1              0\n",
      "organic_texture_2             0\n",
      "harmonic_scale_1              0\n",
      "intensity_index_0             0\n",
      "duration_ms_0                 0\n",
      "artist_count                  0\n",
      "album_component_count         0\n",
      "emotional_charge_1            0\n",
      "emotional_charge_0            0\n",
      "tonal_mode_2                  0\n",
      "key_variety                   0\n",
      "performance_authenticity_2    0\n",
      "performance_authenticity_0    0\n",
      "season_of_release             0\n",
      "time_signature_1              0\n",
      "duration_ms_2                 0\n",
      "lunar_phase                   0\n",
      "instrumental_density_2        0\n",
      "organic_texture_0             0\n",
      "vocal_presence_2              0\n",
      "tonal_mode_1                  0\n",
      "vocal_presence_1              0\n",
      "intensity_index_1             0\n",
      "organic_immersion_0           0\n",
      "instrumental_density_1        0\n",
      "organic_immersion_2           0\n",
      "duration_consistency          0\n",
      "organic_texture_1             0\n",
      "rhythmic_cohesion_0           0\n",
      "emotional_resonance_1         0\n",
      "rhythmic_cohesion_1           0\n",
      "performance_authenticity_1    0\n",
      "tempo_volatility              0\n",
      "organic_immersion_1           0\n",
      "groove_efficiency_0           0\n",
      "emotional_resonance_2         0\n",
      "duration_ms_1                 0\n",
      "time_signature_2              0\n",
      "rhythmic_cohesion_2           0\n",
      "emotional_resonance_0         0\n",
      "harmonic_scale_2              0\n",
      "intensity_index_2             0\n",
      "instrumental_density_0        0\n",
      "dtype: int64\n"
     ]
    }
   ],
   "source": [
    "# Fill numeric columns with mean\n",
    "numeric_cols = df.select_dtypes(include=['float64', 'int64']).columns\n",
    "df[numeric_cols] = df[numeric_cols].fillna(df[numeric_cols].mean())\n",
    "\n",
    "# Fill categorical columns with mode\n",
    "categorical_cols = df.select_dtypes(include=['object', 'category']).columns\n",
    "df[categorical_cols] = df[categorical_cols].fillna(df[categorical_cols].mode().iloc[0])\n",
    "\n",
    "# Verify missing values\n",
    "print(\"Number of missing values after filling:\\n\", df.isna().sum())"
   ]
  },
  {
   "cell_type": "code",
   "execution_count": null,
   "id": "86f578dc",
   "metadata": {},
   "outputs": [],
   "source": [
    "# Encode categorical columns\n",
    "label_encoders = {}\n",
    "for col in categorical_cols:\n",
    "\tle = LabelEncoder()\n",
    "\tdf[col] = le.fit_transform(df[col])\n",
    "\tlabel_encoders[col] = le\n",
    "\t\n"
   ]
  },
  {
   "cell_type": "code",
   "execution_count": null,
   "id": "1f017764",
   "metadata": {},
   "outputs": [
    {
     "name": "stderr",
     "output_type": "stream",
     "text": [
      "c:\\Users\\User\\AppData\\Local\\Programs\\Python\\Python311\\Lib\\site-packages\\sklearn\\utils\\validation.py:2732: UserWarning: X has feature names, but SVR was fitted without feature names\n",
      "  warnings.warn(\n"
     ]
    },
    {
     "name": "stdout",
     "output_type": "stream",
     "text": [
      "Submission file created: submission_svr.csv\n"
     ]
    }
   ],
   "source": [
    "# Ensure test data columns match training data columns\n",
    "df_aligned = df[X_train.columns]\n",
    "\n",
    "y_pred = best_svr.predict(df_aligned)\n",
    "submission = pd.DataFrame({'id': ids, 'target': y_pred})\n",
    "submission.to_csv('submission_svr.csv', index=False)\n",
    "print(\"Submission file created: submission_svr.csv\")"
   ]
  },
  {
   "cell_type": "code",
   "execution_count": null,
   "id": "1f9818d3",
   "metadata": {},
   "outputs": [],
   "source": []
  }
 ],
 "metadata": {
  "kernelspec": {
   "display_name": "Python 3",
   "language": "python",
   "name": "python3"
  },
  "language_info": {
   "codemirror_mode": {
    "name": "ipython",
    "version": 3
   },
   "file_extension": ".py",
   "mimetype": "text/x-python",
   "name": "python",
   "nbconvert_exporter": "python",
   "pygments_lexer": "ipython3",
   "version": "3.11.2"
  }
 },
 "nbformat": 4,
 "nbformat_minor": 5
}
